{
 "cells": [
  {
   "cell_type": "markdown",
   "metadata": {},
   "source": [
    "# Minimum number of jumps to reach the end of an array :-"
   ]
  },
  {
   "cell_type": "code",
   "execution_count": null,
   "metadata": {},
   "outputs": [],
   "source": [
    "def minJumps(arr):\n",
    "\n",
    "jump = arr[1]\n",
    "jump_count = 1\n",
    "jump_pos = 1\n",
    "\n",
    "while jump_pos < len(arr):\n",
    "\n",
    "    if (jump_pos + jump) > (len(arr) - 1):\n",
    "        jumpto = arr[len(arr) - 1]\n",
    "\n",
    "    else:\n",
    "        jumpto = arr[jump_pos + jump]\n",
    "\n",
    "    jump_pos += jump\n",
    "    jump = jumpto\n",
    "    jump_count += 1\n",
    "\n",
    "return jump_count\n",
    "arr = [1,2,11,5,6,8,9,4,1,12] result = minJumps(arr) print(result)"
   ]
  },
  {
   "cell_type": "code",
   "execution_count": 2,
   "metadata": {},
   "outputs": [
    {
     "name": "stdout",
     "output_type": "stream",
     "text": [
      "inf\n"
     ]
    }
   ],
   "source": [
    "def minJump(arr, n):\n",
    "    minimumJumps = [0 for i in range(n)]\n",
    " \n",
    "    if (n == 0) or (arr[0] == 0):\n",
    "        return float('inf')\n",
    " \n",
    "    \n",
    "    for i in range(1, n):\n",
    "        \n",
    "        minimumJumps[i] = float('inf')\n",
    "        \n",
    "        \n",
    "        for j in range(i):\n",
    "            if (i <= j + arr[j]) and (minimumJumps[j] != float('inf')):\n",
    "                minimumJumps[i] = min(minimumJumps[i], minimumJumps[j] + 1)\n",
    "                break\n",
    "    return minimumJumps[n-1]\n",
    "\n",
    "arr = [1,2,5,3,0,1,0,0,0]\n",
    "re = minJump(arr, 9)\n",
    "print(re)"
   ]
  },
  {
   "cell_type": "markdown",
   "metadata": {},
   "source": [
    "# Rearrange array in alternating positive & negative items with O(1) extra space:"
   ]
  },
  {
   "cell_type": "code",
   "execution_count": 15,
   "metadata": {},
   "outputs": [
    {
     "name": "stdout",
     "output_type": "stream",
     "text": [
      "[-5, 5, -2, 2, 4, 7, 1, 8, 0, -8]\n",
      "[-5, 5, -2, 2, -8, 4, 7, 1, 8, 0]\n"
     ]
    },
    {
     "ename": "IndexError",
     "evalue": "list index out of range",
     "output_type": "error",
     "traceback": [
      "\u001b[1;31m---------------------------------------------------------------------------\u001b[0m",
      "\u001b[1;31mIndexError\u001b[0m                                Traceback (most recent call last)",
      "\u001b[1;32m<ipython-input-15-d94d9f699829>\u001b[0m in \u001b[0;36m<module>\u001b[1;34m\u001b[0m\n\u001b[0;32m     38\u001b[0m \u001b[1;33m\u001b[0m\u001b[0m\n\u001b[0;32m     39\u001b[0m \u001b[0marr\u001b[0m \u001b[1;33m=\u001b[0m \u001b[1;33m[\u001b[0m\u001b[1;33m-\u001b[0m\u001b[1;36m5\u001b[0m\u001b[1;33m,\u001b[0m \u001b[1;33m-\u001b[0m\u001b[1;36m2\u001b[0m\u001b[1;33m,\u001b[0m \u001b[1;36m5\u001b[0m\u001b[1;33m,\u001b[0m \u001b[1;36m2\u001b[0m\u001b[1;33m,\u001b[0m \u001b[1;36m4\u001b[0m\u001b[1;33m,\u001b[0m \u001b[1;36m7\u001b[0m\u001b[1;33m,\u001b[0m \u001b[1;36m1\u001b[0m\u001b[1;33m,\u001b[0m \u001b[1;36m8\u001b[0m\u001b[1;33m,\u001b[0m \u001b[1;36m0\u001b[0m\u001b[1;33m,\u001b[0m \u001b[1;33m-\u001b[0m\u001b[1;36m8\u001b[0m\u001b[1;33m]\u001b[0m\u001b[1;33m\u001b[0m\u001b[1;33m\u001b[0m\u001b[0m\n\u001b[1;32m---> 40\u001b[1;33m \u001b[0mans\u001b[0m \u001b[1;33m=\u001b[0m \u001b[0malternatePos\u001b[0m\u001b[1;33m(\u001b[0m\u001b[0marr\u001b[0m\u001b[1;33m)\u001b[0m\u001b[1;33m\u001b[0m\u001b[1;33m\u001b[0m\u001b[0m\n\u001b[0m\u001b[0;32m     41\u001b[0m \u001b[0mprint\u001b[0m\u001b[1;33m(\u001b[0m\u001b[0mans\u001b[0m\u001b[1;33m)\u001b[0m\u001b[1;33m\u001b[0m\u001b[1;33m\u001b[0m\u001b[0m\n\u001b[0;32m     42\u001b[0m \u001b[1;33m\u001b[0m\u001b[0m\n",
      "\u001b[1;32m<ipython-input-15-d94d9f699829>\u001b[0m in \u001b[0;36malternatePos\u001b[1;34m(arr)\u001b[0m\n\u001b[0;32m     31\u001b[0m         \u001b[1;32mif\u001b[0m \u001b[0moutofOrder\u001b[0m\u001b[1;33m(\u001b[0m\u001b[0mnum\u001b[0m\u001b[1;33m,\u001b[0m \u001b[0mi\u001b[0m\u001b[1;33m,\u001b[0m \u001b[0marr\u001b[0m\u001b[1;33m)\u001b[0m\u001b[1;33m:\u001b[0m\u001b[1;33m\u001b[0m\u001b[1;33m\u001b[0m\u001b[0m\n\u001b[0;32m     32\u001b[0m \u001b[1;33m\u001b[0m\u001b[0m\n\u001b[1;32m---> 33\u001b[1;33m             \u001b[0mput\u001b[0m \u001b[1;33m=\u001b[0m \u001b[0mhelper\u001b[0m\u001b[1;33m(\u001b[0m\u001b[0mnum\u001b[0m\u001b[1;33m,\u001b[0m \u001b[0mi\u001b[0m\u001b[1;33m,\u001b[0m \u001b[0marr\u001b[0m\u001b[1;33m)\u001b[0m\u001b[1;33m\u001b[0m\u001b[1;33m\u001b[0m\u001b[0m\n\u001b[0m\u001b[0;32m     34\u001b[0m             \u001b[0mele\u001b[0m \u001b[1;33m=\u001b[0m \u001b[0marr\u001b[0m\u001b[1;33m.\u001b[0m\u001b[0mpop\u001b[0m\u001b[1;33m(\u001b[0m\u001b[0mput\u001b[0m\u001b[1;33m)\u001b[0m\u001b[1;33m\u001b[0m\u001b[1;33m\u001b[0m\u001b[0m\n\u001b[0;32m     35\u001b[0m             \u001b[0marr\u001b[0m\u001b[1;33m.\u001b[0m\u001b[0minsert\u001b[0m\u001b[1;33m(\u001b[0m\u001b[0mi\u001b[0m\u001b[1;33m,\u001b[0m \u001b[0mele\u001b[0m\u001b[1;33m)\u001b[0m\u001b[1;33m\u001b[0m\u001b[1;33m\u001b[0m\u001b[0m\n",
      "\u001b[1;32m<ipython-input-15-d94d9f699829>\u001b[0m in \u001b[0;36mhelper\u001b[1;34m(num, i, arr)\u001b[0m\n\u001b[0;32m     14\u001b[0m     \u001b[1;32mif\u001b[0m \u001b[0mnum\u001b[0m \u001b[1;33m>\u001b[0m \u001b[1;33m-\u001b[0m\u001b[1;36m1\u001b[0m \u001b[1;32mand\u001b[0m \u001b[0mi\u001b[0m \u001b[1;33m<\u001b[0m \u001b[0mlen\u001b[0m\u001b[1;33m(\u001b[0m\u001b[0marr\u001b[0m\u001b[1;33m)\u001b[0m \u001b[1;33m-\u001b[0m \u001b[1;36m1\u001b[0m\u001b[1;33m:\u001b[0m\u001b[1;33m\u001b[0m\u001b[1;33m\u001b[0m\u001b[0m\n\u001b[0;32m     15\u001b[0m         \u001b[0mx\u001b[0m \u001b[1;33m=\u001b[0m \u001b[0mi\u001b[0m\u001b[1;33m+\u001b[0m\u001b[1;36m1\u001b[0m\u001b[1;33m\u001b[0m\u001b[1;33m\u001b[0m\u001b[0m\n\u001b[1;32m---> 16\u001b[1;33m         \u001b[1;32mwhile\u001b[0m \u001b[0marr\u001b[0m\u001b[1;33m[\u001b[0m\u001b[0mx\u001b[0m\u001b[1;33m]\u001b[0m \u001b[1;33m>\u001b[0m \u001b[1;33m-\u001b[0m\u001b[1;36m1\u001b[0m \u001b[1;32mand\u001b[0m \u001b[0mx\u001b[0m \u001b[1;33m<\u001b[0m \u001b[0mlen\u001b[0m\u001b[1;33m(\u001b[0m\u001b[0marr\u001b[0m\u001b[1;33m)\u001b[0m\u001b[1;33m:\u001b[0m\u001b[1;33m\u001b[0m\u001b[1;33m\u001b[0m\u001b[0m\n\u001b[0m\u001b[0;32m     17\u001b[0m             \u001b[0mx\u001b[0m \u001b[1;33m+=\u001b[0m \u001b[1;36m1\u001b[0m\u001b[1;33m\u001b[0m\u001b[1;33m\u001b[0m\u001b[0m\n\u001b[0;32m     18\u001b[0m         \u001b[1;32mreturn\u001b[0m \u001b[0mx\u001b[0m\u001b[1;33m\u001b[0m\u001b[1;33m\u001b[0m\u001b[0m\n",
      "\u001b[1;31mIndexError\u001b[0m: list index out of range"
     ]
    }
   ],
   "source": [
    "\n",
    "def outofOrder(num, i, arr):\n",
    "    if i == 0 and num > -1:\n",
    "        return True\n",
    "    elif i==0 and num <= -1 :\n",
    "        return False\n",
    "    elif num <= -1 and arr[i-1] <= -1:\n",
    "        return True\n",
    "    elif num > -1 and arr[i-1] > -1:\n",
    "        return True\n",
    "    else:\n",
    "        return False\n",
    "    \n",
    "def helper(num, i, arr):\n",
    "    if num > -1 and i < len(arr) - 1:\n",
    "        x = i+1\n",
    "        while arr[x] > -1 and x < len(arr):\n",
    "            x += 1\n",
    "        return x\n",
    "    elif num <= -1 and i < len(arr) - 1:\n",
    "        x = i+1\n",
    "        while arr[x] <= -1 and x < len(arr):\n",
    "            x += 1\n",
    "        return x  \n",
    "            \n",
    "\n",
    "def alternatePos(arr):\n",
    "    \n",
    "    for i in range(len(arr)):\n",
    "        num = arr[i]\n",
    "        \n",
    "        if outofOrder(num, i, arr):\n",
    "            \n",
    "            put = helper(num, i, arr)\n",
    "            ele = arr.pop(put)\n",
    "            arr.insert(i, ele)\n",
    "            print(arr)\n",
    "    return arr\n",
    "\n",
    "arr = [-5, -2, 5, 2, 4, 7, 1, 8, 0, -8]\n",
    "ans = alternatePos(arr)\n",
    "print(ans)\n",
    "        "
   ]
  },
  {
   "cell_type": "markdown",
   "metadata": {},
   "source": [
    "# Given an array of size n and a number k, find all elements that appear more than n/k times"
   ]
  },
  {
   "cell_type": "code",
   "execution_count": 3,
   "metadata": {},
   "outputs": [
    {
     "name": "stdout",
     "output_type": "stream",
     "text": [
      "3\n",
      "2\n"
     ]
    }
   ],
   "source": [
    "def numInArray(arr, k):\n",
    "    freq = len(arr)//k\n",
    "    nums = {}\n",
    "    for ele in arr:\n",
    "        if ele in nums:\n",
    "            nums[ele] += 1\n",
    "        else:\n",
    "            nums[ele] = 1\n",
    "    \n",
    "    for n in nums:\n",
    "        if nums[n] > freq:\n",
    "            print(n)\n",
    "\n",
    "arr = [3, 1, 2, 2, 1, 2, 3, 3]\n",
    "numInArray(arr, 4)\n",
    "    "
   ]
  },
  {
   "cell_type": "markdown",
   "metadata": {},
   "source": [
    "# Maximum profit by buying and selling a share at most twice"
   ]
  },
  {
   "cell_type": "code",
   "execution_count": null,
   "metadata": {},
   "outputs": [],
   "source": []
  },
  {
   "cell_type": "markdown",
   "metadata": {},
   "source": [
    "# Check if strings are rotations of each other or not"
   ]
  },
  {
   "cell_type": "code",
   "execution_count": 3,
   "metadata": {},
   "outputs": [
    {
     "name": "stdout",
     "output_type": "stream",
     "text": [
      "Yes\n"
     ]
    }
   ],
   "source": [
    "def areRotation(s1, s2):\n",
    "    if len(s1) != len(s2):\n",
    "        return 0\n",
    "        \n",
    "    tString = \"\"\n",
    "    tString = s1+s2\n",
    "    if s2 in tString:\n",
    "        print(\"Yes\")\n",
    "    else:\n",
    "        print(\"No\")\n",
    "    \n",
    "    \n",
    "s1 = \"abcdefg\"\n",
    "s2 = \"fgabcde\"\n",
    "areRotation(s1, s2)\n",
    "    "
   ]
  },
  {
   "cell_type": "markdown",
   "metadata": {},
   "source": [
    "# Split the binary string into substrings with equal number of 0s and 1s"
   ]
  },
  {
   "cell_type": "code",
   "execution_count": 2,
   "metadata": {},
   "outputs": [
    {
     "name": "stdout",
     "output_type": "stream",
     "text": [
      "3\n"
     ]
    }
   ],
   "source": [
    "def binaryStr(st):\n",
    "    zeroCount = 0\n",
    "    oneCount = 0\n",
    "    divCount = 0\n",
    "    \n",
    "    for i in range(len(st)):\n",
    "        if st[i] == \"0\":\n",
    "            zeroCount += 1\n",
    "        else:\n",
    "            oneCount +=1\n",
    "        if zeroCount == oneCount:\n",
    "            divCount +=1\n",
    "            zeroCount, oneCount = 1, 1\n",
    "    print(divCount)\n",
    "    \n",
    "st = \"0111100010\"\n",
    "binaryStr(st)\n",
    "    "
   ]
  },
  {
   "cell_type": "code",
   "execution_count": null,
   "metadata": {},
   "outputs": [],
   "source": []
  },
  {
   "cell_type": "markdown",
   "metadata": {},
   "source": [
    "# Linked List "
   ]
  },
  {
   "cell_type": "markdown",
   "metadata": {},
   "source": [
    "Find first node of loop in a linked list"
   ]
  },
  {
   "cell_type": "code",
   "execution_count": null,
   "metadata": {},
   "outputs": [],
   "source": [
    "def removeLoop(self, head):\n",
    "        \n",
    "    fast = head\n",
    "    slow = head\n",
    "        \n",
    "    while fast.next != None and fast.next.next != None:\n",
    "        slow = slow.next\n",
    "        fast = fast.next.next\n",
    "            \n",
    "        if slow == fast:\n",
    "            break\n",
    "            \n",
    "    if slow == fast:\n",
    "        fast = head\n",
    "        while fast != slow:\n",
    "            fast = fast.next\n",
    "            slow = slow.next\n",
    "            \n",
    "    return slow"
   ]
  },
  {
   "cell_type": "markdown",
   "metadata": {},
   "source": [
    "Move last element to front of a given Linked List"
   ]
  },
  {
   "cell_type": "code",
   "execution_count": null,
   "metadata": {},
   "outputs": [],
   "source": [
    "def moveFront(head):\n",
    "    curr = head\n",
    "    prev = None\n",
    "    \n",
    "    while curr.next!= None:\n",
    "        prev = curr\n",
    "        curr = curr.next\n",
    "        \n",
    "    curr.next = head\n",
    "    prev.next = None\n",
    "    head = curr\n",
    "    \n",
    "    return head\n",
    "    "
   ]
  },
  {
   "cell_type": "markdown",
   "metadata": {},
   "source": [
    "Split a Circular List into 2 halves"
   ]
  },
  {
   "cell_type": "code",
   "execution_count": null,
   "metadata": {},
   "outputs": [],
   "source": [
    "def splitLL(head):\n",
    "    fast = head\n",
    "    slow = head\n",
    "    \n",
    "    while fast.next != None and fast.next.next != None:\n",
    "        slow = slow.next\n",
    "        fast = fast.next.next\n",
    "    \n",
    "    head1 = head\n",
    "    tail1 = slow\n",
    "    \n",
    "    head2 = slow.next\n",
    "    if fast.next ==None:\n",
    "        tail2 = fast\n",
    "    else:\n",
    "        tail2 = fast.next\n",
    "    tail1.next = None\n",
    "    tail2.next = None\n",
    "\n",
    "    return head1, head2"
   ]
  },
  {
   "cell_type": "markdown",
   "metadata": {},
   "source": [
    "Deletion from Circular LL"
   ]
  },
  {
   "cell_type": "code",
   "execution_count": null,
   "metadata": {},
   "outputs": [],
   "source": [
    "def delCircular(head, data):\n",
    "    \n",
    "    curr = head.next\n",
    "    prev = head\n",
    "    \n",
    "    while curr.next != head:\n",
    "        if curr.data = data:\n",
    "            prev.next = curr.next\n",
    "            curr.next = None\n",
    "            break\n",
    "        prev = curr\n",
    "        curr = curr.next\n",
    "    return head"
   ]
  },
  {
   "cell_type": "markdown",
   "metadata": {},
   "source": [
    "Find pairs with given sum in doubly linked list"
   ]
  },
  {
   "cell_type": "code",
   "execution_count": null,
   "metadata": {},
   "outputs": [],
   "source": [
    "def pairSum(head, val):\n",
    "    \n",
    "    left = head\n",
    "    right = head\n",
    "    \n",
    "    while right.next != None:\n",
    "        right = right.next\n",
    "        \n",
    "    found = False\n",
    "    \n",
    "    while left != right and right.next != left:\n",
    "        \n",
    "        if left.data + right.data == val:\n",
    "            found = True\n",
    "            print(left.data, right.data)\n",
    "            left = left.next\n",
    "            right = right.prev\n",
    "            \n",
    "        elif left.data + right.data > val:\n",
    "            right = right.prev\n",
    "        \n",
    "        else:\n",
    "            left = left.next\n",
    "    \n",
    "    if found is False:\n",
    "        print(\"Pair not found\")\n",
    "        "
   ]
  }
 ],
 "metadata": {
  "kernelspec": {
   "display_name": "Python 3",
   "language": "python",
   "name": "python3"
  },
  "language_info": {
   "codemirror_mode": {
    "name": "ipython",
    "version": 3
   },
   "file_extension": ".py",
   "mimetype": "text/x-python",
   "name": "python",
   "nbconvert_exporter": "python",
   "pygments_lexer": "ipython3",
   "version": "3.7.3"
  }
 },
 "nbformat": 4,
 "nbformat_minor": 2
}
