{
 "cells": [
  {
   "cell_type": "markdown",
   "metadata": {},
   "source": [
    "# Creating and Printing Binary Tree"
   ]
  },
  {
   "cell_type": "code",
   "execution_count": 1,
   "metadata": {},
   "outputs": [
    {
     "name": "stdout",
     "output_type": "stream",
     "text": [
      "1:L-> 2,R-> 3\n",
      "2:L-> 4,R-> 5\n",
      "4:\n",
      "5:\n",
      "3:R-> 6\n",
      "6:\n"
     ]
    }
   ],
   "source": [
    "class BinaryTNode:\n",
    "    def __init__(self, data):\n",
    "        self.data = data\n",
    "        self.left = None\n",
    "        self.right = None\n",
    "\n",
    "def printBT(root):\n",
    "    if root == None:\n",
    "        return\n",
    "    print(root.data, end = \":\")\n",
    "    if root.left != None:\n",
    "        print(\"L->\", root.left.data, end = \",\")\n",
    "        \n",
    "    if root.right != None:\n",
    "        print(\"R->\", root.right.data, end = \"\")\n",
    "    print()    \n",
    "    printBT(root.left)\n",
    "    printBT(root.right)\n",
    "    \n",
    "    \n",
    "btn1 = BinaryTNode(1)\n",
    "btn2 = BinaryTNode(2)\n",
    "btn3 = BinaryTNode(3)\n",
    "btn4 = BinaryTNode(4)\n",
    "btn5 = BinaryTNode(5)\n",
    "btn6 = BinaryTNode(6)\n",
    "\n",
    "btn1.left = btn2\n",
    "btn1.right = btn3\n",
    "btn2.left = btn4\n",
    "btn2.right = btn5\n",
    "btn3.right  = btn6\n",
    "\n",
    "printBT(btn1)\n"
   ]
  },
  {
   "cell_type": "markdown",
   "metadata": {},
   "source": [
    "# User Input"
   ]
  },
  {
   "cell_type": "code",
   "execution_count": null,
   "metadata": {},
   "outputs": [],
   "source": [
    "def userInput():\n",
    "    rootData = int(input())\n",
    "    \n",
    "    if rootData == -1:\n",
    "        return None\n",
    "    root = Node(rootData)\n",
    "    leftTree = userInput()\n",
    "    rightTree = userInput()\n",
    "    root.left = leftTree\n",
    "    root.right = rightTree\n",
    "    \n",
    "    return root\n",
    "\n",
    "def printBT(root):\n",
    "    if root == None:\n",
    "        return\n",
    "    print(root.data, end = \":\")\n",
    "    if root.left != None:\n",
    "        print(\"L->\", root.left.data, end = \",\")\n",
    "    if root.right != None:\n",
    "        print(\"R->\", root.right.data, end = \"\")\n",
    "    print()\n",
    "    printBT(root.left)\n",
    "    printBT(root.right)\n",
    "    \n",
    "              \n",
    "r = userInput()   \n",
    "printBT(r)"
   ]
  },
  {
   "cell_type": "markdown",
   "metadata": {},
   "source": [
    "# Number of Nodes"
   ]
  },
  {
   "cell_type": "code",
   "execution_count": null,
   "metadata": {},
   "outputs": [],
   "source": [
    "def numNodes(root):\n",
    "    if root == None:\n",
    "        return 0\n",
    "    \n",
    "    leftcount = numNodes(root.left)\n",
    "    rightcount = numNodes(root.right)\n",
    "    \n",
    "    return 1+leftcount+rightcount\n",
    "    \n",
    "    \n",
    "r = userInput()   \n",
    "printBT(r)\n",
    "print(numNodes(r))"
   ]
  },
  {
   "cell_type": "markdown",
   "metadata": {},
   "source": [
    "# Post Order Traversal"
   ]
  },
  {
   "cell_type": "code",
   "execution_count": null,
   "metadata": {},
   "outputs": [],
   "source": [
    "def PostOrder(root):\n",
    "    if root is None:\n",
    "        return\n",
    "    PostOrder(root.left)\n",
    "    PostOrder(root.right)\n",
    "    print(root.data)  \n",
    "            \n",
    "            "
   ]
  },
  {
   "cell_type": "markdown",
   "metadata": {},
   "source": [
    "# Inorder Traversal"
   ]
  },
  {
   "cell_type": "code",
   "execution_count": null,
   "metadata": {},
   "outputs": [],
   "source": []
  },
  {
   "cell_type": "markdown",
   "metadata": {},
   "source": [
    "# Largest Data"
   ]
  },
  {
   "cell_type": "code",
   "execution_count": null,
   "metadata": {},
   "outputs": [],
   "source": [
    "def largestData(root):\n",
    "    if root == None:\n",
    "        return -1\n",
    "    leftmax = largestData(root.left)\n",
    "    rightmax = largestData(root.right)\n",
    "    largest = max(root.data, leftmax, rightmax)\n",
    "    return largest\n",
    "    "
   ]
  },
  {
   "cell_type": "markdown",
   "metadata": {},
   "source": [
    "# Number of Leaf Nodes"
   ]
  },
  {
   "cell_type": "code",
   "execution_count": null,
   "metadata": {},
   "outputs": [],
   "source": [
    "def leafNodes(root):\n",
    "    if root == None:\n",
    "        return 0\n",
    "    if root.left is None and root.right is None:\n",
    "        return 1\n",
    "    leftTree = leafNodes(root.left)\n",
    "    rightTree = leafNodes(root.right)\n",
    "    return leftTree+rightTree\n",
    "    \n",
    "                    "
   ]
  },
  {
   "cell_type": "markdown",
   "metadata": {},
   "source": [
    "# Print all Nodes at depth k"
   ]
  },
  {
   "cell_type": "code",
   "execution_count": null,
   "metadata": {},
   "outputs": [],
   "source": [
    "def printdepthk(root, k):\n",
    "    if root == None:\n",
    "        return \n",
    "    if k == 0:\n",
    "        print(root.data)\n",
    "    printdepthk(root.left, k-1)\n",
    "    printdepthk(root.right, k-1)\n",
    "    "
   ]
  },
  {
   "cell_type": "markdown",
   "metadata": {},
   "source": [
    "# Remove the Leaf Nodes"
   ]
  },
  {
   "cell_type": "code",
   "execution_count": null,
   "metadata": {},
   "outputs": [],
   "source": [
    "def removeLNodes(root):\n",
    "    if root == None:\n",
    "        return None\n",
    "    if root.left is None and root.right is None:\n",
    "        return None\n",
    "    \n",
    "    leftTree = removeLNodes(root.left)\n",
    "    rightTree = removeLNodes(root.right)\n",
    "    root.left = leftTree\n",
    "    root.right = rightTree\n",
    "    return root  \n",
    "    "
   ]
  },
  {
   "cell_type": "markdown",
   "metadata": {},
   "source": [
    "# Balanced or not"
   ]
  },
  {
   "cell_type": "code",
   "execution_count": null,
   "metadata": {},
   "outputs": [],
   "source": []
  },
  {
   "cell_type": "markdown",
   "metadata": {},
   "source": [
    "# Traversing Iteratively"
   ]
  },
  {
   "cell_type": "code",
   "execution_count": 5,
   "metadata": {},
   "outputs": [
    {
     "ename": "AttributeError",
     "evalue": "'pair' object has no attribute 'left'",
     "output_type": "error",
     "traceback": [
      "\u001b[1;31m---------------------------------------------------------------------------\u001b[0m",
      "\u001b[1;31mAttributeError\u001b[0m                            Traceback (most recent call last)",
      "\u001b[1;32m<ipython-input-5-053351148291>\u001b[0m in \u001b[0;36m<module>\u001b[1;34m\u001b[0m\n\u001b[0;32m     37\u001b[0m \u001b[1;33m\u001b[0m\u001b[0m\n\u001b[0;32m     38\u001b[0m \u001b[1;33m\u001b[0m\u001b[0m\n\u001b[1;32m---> 39\u001b[1;33m \u001b[0miterative\u001b[0m\u001b[1;33m(\u001b[0m\u001b[0mbtn1\u001b[0m\u001b[1;33m)\u001b[0m\u001b[1;33m\u001b[0m\u001b[1;33m\u001b[0m\u001b[0m\n\u001b[0m\u001b[0;32m     40\u001b[0m \u001b[1;33m\u001b[0m\u001b[0m\n",
      "\u001b[1;32m<ipython-input-5-053351148291>\u001b[0m in \u001b[0;36miterative\u001b[1;34m(root)\u001b[0m\n\u001b[0;32m     23\u001b[0m             \u001b[0mpre\u001b[0m \u001b[1;33m+=\u001b[0m \u001b[0mstr\u001b[0m\u001b[1;33m(\u001b[0m\u001b[0mnd\u001b[0m\u001b[1;33m.\u001b[0m\u001b[0mdata\u001b[0m\u001b[1;33m.\u001b[0m\u001b[0mdata\u001b[0m\u001b[1;33m)\u001b[0m \u001b[1;33m+\u001b[0m \u001b[1;34m\" \"\u001b[0m\u001b[1;33m\u001b[0m\u001b[1;33m\u001b[0m\u001b[0m\n\u001b[0;32m     24\u001b[0m             \u001b[0mnd\u001b[0m\u001b[1;33m.\u001b[0m\u001b[0mstate\u001b[0m \u001b[1;33m+=\u001b[0m \u001b[1;36m1\u001b[0m\u001b[1;33m\u001b[0m\u001b[1;33m\u001b[0m\u001b[0m\n\u001b[1;32m---> 25\u001b[1;33m             \u001b[1;32mif\u001b[0m \u001b[0mnd\u001b[0m\u001b[1;33m.\u001b[0m\u001b[0mdata\u001b[0m\u001b[1;33m.\u001b[0m\u001b[0mleft\u001b[0m \u001b[1;32mis\u001b[0m \u001b[1;32mnot\u001b[0m \u001b[1;32mNone\u001b[0m\u001b[1;33m:\u001b[0m\u001b[1;33m\u001b[0m\u001b[1;33m\u001b[0m\u001b[0m\n\u001b[0m\u001b[0;32m     26\u001b[0m                 \u001b[0mst\u001b[0m\u001b[1;33m.\u001b[0m\u001b[0mappend\u001b[0m\u001b[1;33m(\u001b[0m\u001b[0mpair\u001b[0m\u001b[1;33m(\u001b[0m\u001b[0mnd\u001b[0m\u001b[1;33m,\u001b[0m\u001b[1;36m1\u001b[0m\u001b[1;33m)\u001b[0m\u001b[1;33m)\u001b[0m\u001b[1;33m\u001b[0m\u001b[1;33m\u001b[0m\u001b[0m\n\u001b[0;32m     27\u001b[0m \u001b[1;33m\u001b[0m\u001b[0m\n",
      "\u001b[1;31mAttributeError\u001b[0m: 'pair' object has no attribute 'left'"
     ]
    }
   ],
   "source": [
    "class pair:\n",
    "    def __init__(self, data, state):\n",
    "        self.data = data\n",
    "        self.state = state\n",
    "        \n",
    "class BTN:\n",
    "    def __init__(self, data, left, right):\n",
    "        self.data = data\n",
    "        self.right = right\n",
    "        self.left = left\n",
    "        \n",
    "def iterative(root):\n",
    "    pre = \"\"\n",
    "    inorder = \"\"\n",
    "    post = \"\"\n",
    "    st = []\n",
    "    \n",
    "    st.append(pair(root,1))\n",
    "    \n",
    "    while len(st) > 0:\n",
    "        nd = st[-1]\n",
    "        if nd.state == 1:\n",
    "            pre += str(nd.data.data) + \" \"\n",
    "            nd.state += 1\n",
    "            if nd.data.left is not None:\n",
    "                st.append(pair(nd,1))\n",
    "            \n",
    "        elif nd.state == 2:\n",
    "            inorder += str(nd.data.data) + \" \"\n",
    "            nd.state += 1\n",
    "            if nd.data.right is not None:\n",
    "                st.append(pair(nd,1))\n",
    "                \n",
    "        else:\n",
    "            post += str(nd.data.data) + \" \"\n",
    "            st.pop()\n",
    "            \n",
    "\n",
    "iterative(btn1)           \n",
    "            "
   ]
  },
  {
   "cell_type": "code",
   "execution_count": null,
   "metadata": {},
   "outputs": [],
   "source": []
  }
 ],
 "metadata": {
  "kernelspec": {
   "display_name": "Python 3",
   "language": "python",
   "name": "python3"
  },
  "language_info": {
   "codemirror_mode": {
    "name": "ipython",
    "version": 3
   },
   "file_extension": ".py",
   "mimetype": "text/x-python",
   "name": "python",
   "nbconvert_exporter": "python",
   "pygments_lexer": "ipython3",
   "version": "3.7.3"
  }
 },
 "nbformat": 4,
 "nbformat_minor": 2
}
